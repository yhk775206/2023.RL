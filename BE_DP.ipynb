{
  "nbformat": 4,
  "nbformat_minor": 0,
  "metadata": {
    "colab": {
      "provenance": [],
      "authorship_tag": "ABX9TyPeNR3I9ZQZl+EWGunDk49Z",
      "include_colab_link": true
    },
    "kernelspec": {
      "name": "python3",
      "display_name": "Python 3"
    },
    "language_info": {
      "name": "python"
    }
  },
  "cells": [
    {
      "cell_type": "markdown",
      "metadata": {
        "id": "view-in-github",
        "colab_type": "text"
      },
      "source": [
        "<a href=\"https://colab.research.google.com/github/yhk775206/2023.RL/blob/main/BE_DP.ipynb\" target=\"_parent\"><img src=\"https://colab.research.google.com/assets/colab-badge.svg\" alt=\"Open In Colab\"/></a>"
      ]
    },
    {
      "cell_type": "code",
      "source": [
        "import numpy as np"
      ],
      "metadata": {
        "id": "4AywEmT7piRG"
      },
      "execution_count": 3,
      "outputs": []
    },
    {
      "cell_type": "code",
      "source": [
        "# 1. MDP 정의\n",
        "# (1) S\n",
        "shape = (4, 4)\n",
        "terminals = [(0, 0), (3, 3)]\n",
        "\n",
        "# (2) A\n",
        "numa = 4\n",
        "actions = ['up', 'down', 'left', 'right']\n",
        "\n",
        "# (4) R\n",
        "reward = -1 * np.ones(shape)\n",
        "for terminal in terminals:\n",
        "  reward[terminal] = 0\n",
        "\n",
        "# (5) gamma\n",
        "gamma = 1.0"
      ],
      "metadata": {
        "id": "1fA_z3MKpqRG"
      },
      "execution_count": 5,
      "outputs": []
    },
    {
      "cell_type": "code",
      "execution_count": 2,
      "metadata": {
        "id": "eQFAVJp3pMPt"
      },
      "outputs": [],
      "source": [
        "# 1. MDP 정의\n",
        "# (3) P\n",
        "def P(state, action):\n",
        "  if action == 'up':\n",
        "    next_state = (max(0, state[0]-1), state[1])\n",
        "  elif action == 'down':\n",
        "    next_state = (min(shape[0]-1, state[0]+1), state[1])\n",
        "  elif action == 'left':\n",
        "    next_state = (state[0], max(0, state[1]-1))\n",
        "  elif action == 'right':\n",
        "    next_state = (state[0], min(shape[1]-1, state[1]+1))\n",
        "  return next_state\n"
      ]
    },
    {
      "cell_type": "code",
      "source": [
        "# 2. value iteration\n",
        "# (1) Initialize the value function\n",
        "V = np.zeros(shape)\n",
        "\n",
        "# (2) Value iteration\n",
        "while True:\n",
        "    delta = 0\n",
        "    for i in range(shape[0]):\n",
        "        for j in range(shape[1]):\n",
        "            if (i, j) in terminals:\n",
        "                continue\n",
        "            v = V[i, j]\n",
        "            V[i, j] = sum((reward[i, j] + gamma * V[P((i, j), a)]) for a in actions) / numa\n",
        "            delta = max(delta, abs(v - V[i, j]))\n",
        "    if delta < 1e-4:\n",
        "        break\n"
      ],
      "metadata": {
        "id": "Y2WuJm0DpbH7"
      },
      "execution_count": 6,
      "outputs": []
    },
    {
      "cell_type": "code",
      "source": [
        "# 2. value iteration\n",
        "# (3) Extract the optimal policy\n",
        "optimal_policy = {}\n",
        "for i in range(shape[0]):\n",
        "    for j in range(shape[1]):\n",
        "        if (i, j) in terminals:\n",
        "            optimal_policy[i, j] = 'terminal'\n",
        "        else:\n",
        "            optimal_policy[i, j] = actions[np.argmax([(reward[i, j]\n",
        "\t\t\t     + gamma * V[P((i, j), a)]) for a in actions])]\n"
      ],
      "metadata": {
        "id": "VJqNBrYypy_O"
      },
      "execution_count": 7,
      "outputs": []
    },
    {
      "cell_type": "code",
      "source": [
        "print(optimal_policy)\n",
        "print(V)"
      ],
      "metadata": {
        "colab": {
          "base_uri": "https://localhost:8080/"
        },
        "id": "fIbALfAzp46c",
        "outputId": "052eabe8-ef7c-4199-f74f-80aeb1014545"
      },
      "execution_count": 10,
      "outputs": [
        {
          "output_type": "stream",
          "name": "stdout",
          "text": [
            "{(0, 0): 'terminal', (0, 1): 'left', (0, 2): 'left', (0, 3): 'left', (1, 0): 'up', (1, 1): 'up', (1, 2): 'left', (1, 3): 'down', (2, 0): 'up', (2, 1): 'up', (2, 2): 'right', (2, 3): 'down', (3, 0): 'up', (3, 1): 'right', (3, 2): 'right', (3, 3): 'terminal'}\n",
            "[[  0.         -13.99931242 -19.99901152 -21.99891199]\n",
            " [-13.99931242 -17.99915625 -19.99908389 -19.99909436]\n",
            " [-19.99901152 -19.99908389 -17.99922697 -13.99942284]\n",
            " [-21.99891199 -19.99909436 -13.99942284   0.        ]]\n"
          ]
        }
      ]
    },
    {
      "cell_type": "code",
      "source": [
        "# 3. 결과 출력\n",
        "print(\"Optimal policy is:\")\n",
        "for i in range(shape[0]):\n",
        "    for j in range(shape[1]):\n",
        "        print(f\"({i},{j}): {optimal_policy[i,j]}\")\n",
        "\n",
        "print(\"\\nOptimal value function is:\")\n",
        "for i in range(shape[0]):\n",
        "    for j in range(shape[1]):\n",
        "        print(f\"V({i},{j}): {V[i,j]}\")\n"
      ],
      "metadata": {
        "colab": {
          "base_uri": "https://localhost:8080/"
        },
        "id": "G4K6qN9-p1RC",
        "outputId": "70bc1559-46d5-4885-d8ff-5e47d259cb13"
      },
      "execution_count": 8,
      "outputs": [
        {
          "output_type": "stream",
          "name": "stdout",
          "text": [
            "Optimal policy is:\n",
            "(0,0): terminal\n",
            "(0,1): left\n",
            "(0,2): left\n",
            "(0,3): left\n",
            "(1,0): up\n",
            "(1,1): up\n",
            "(1,2): left\n",
            "(1,3): down\n",
            "(2,0): up\n",
            "(2,1): up\n",
            "(2,2): right\n",
            "(2,3): down\n",
            "(3,0): up\n",
            "(3,1): right\n",
            "(3,2): right\n",
            "(3,3): terminal\n",
            "\n",
            "Optimal value function is:\n",
            "V(0,0): 0.0\n",
            "V(0,1): -13.999312424461952\n",
            "V(0,2): -19.999011518162753\n",
            "V(0,3): -21.998911992496346\n",
            "V(1,0): -13.999312424461952\n",
            "V(1,1): -17.999156254598965\n",
            "V(1,2): -19.99908388638086\n",
            "V(1,3): -19.99909436158647\n",
            "V(2,0): -19.999011518162757\n",
            "V(2,1): -19.99908388638086\n",
            "V(2,2): -17.99922696784339\n",
            "V(2,3): -13.999422844683943\n",
            "V(3,0): -21.99891199249635\n",
            "V(3,1): -19.999094361586472\n",
            "V(3,2): -13.999422844683945\n",
            "V(3,3): 0.0\n"
          ]
        }
      ]
    }
  ]
}